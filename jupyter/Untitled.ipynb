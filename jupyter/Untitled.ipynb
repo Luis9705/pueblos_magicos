{
 "cells": [
  {
   "cell_type": "code",
   "execution_count": 3,
   "metadata": {},
   "outputs": [],
   "source": [
    "import random\n",
    "import string\n",
    "import numpy as np\n",
    "from deap import base, creator, tools"
   ]
  },
  {
   "cell_type": "code",
   "execution_count": 4,
   "metadata": {},
   "outputs": [],
   "source": [
    "class Runner:\n",
    "    \n",
    "    def __init__(self, toolbox):\n",
    "        self.toolbox = toolbox\n",
    "        self.set_parameters(10, 5, 2)\n",
    "        \n",
    "    def set_parameters(self, population_size, iterations, n_matings):\n",
    "        self.iterations = iterations\n",
    "        self.population_size = population_size\n",
    "        self.n_matings = n_matings\n",
    "        \n",
    "    def set_fitness(self, population):\n",
    "        fitnesses = [ \n",
    "            (individual, self.toolbox.evaluate(individual)) \n",
    "            for individual in population \n",
    "        ]\n",
    "\n",
    "        for individual, fitness in fitnesses:\n",
    "            individual.fitness.values = (fitness,)\n",
    "            \n",
    "    def get_offspring(self, population):\n",
    "        n = len(population)\n",
    "        for _ in range(self.n_matings):\n",
    "            i1, i2 = np.random.choice(range(n), size=2, replace=False)\n",
    "\n",
    "            offspring1, offspring2 = \\\n",
    "                self.toolbox.mate(population[i1], population[i2])\n",
    "            \n",
    "            yield self.toolbox.mutate(offspring1)[0]\n",
    "            yield self.toolbox.mutate(offspring2)[0]\n",
    "    \n",
    "    @staticmethod\n",
    "    def pull_stats(population, iteration=1):\n",
    "        fitnesses = [ individual.fitness.values[0] for individual in population ]\n",
    "        return {\n",
    "            'i': iteration,\n",
    "            'mu': np.mean(fitnesses),\n",
    "            'std': np.std(fitnesses),\n",
    "            'max': np.max(fitnesses),\n",
    "            'min': np.min(fitnesses)\n",
    "        }  \n",
    "    \n",
    "    def Run(self):\n",
    "        population = self.toolbox.population(n=self.population_size)\n",
    "        self.set_fitness(population)\n",
    "        \n",
    "        stats = []\n",
    "        for iteration in list(range(1, self.iterations + 1)):\n",
    "            current_population = list(map(self.toolbox.clone, population))\n",
    "            offspring = list(self.get_offspring(current_population))            \n",
    "            for child in offspring:\n",
    "                current_population.append(child)\n",
    "            \n",
    "            ## reset fitness,\n",
    "            self.set_fitness(current_population)\n",
    "            \n",
    "            population[:] = self.toolbox.select(current_population, len(population))\n",
    "            stats.append(\n",
    "                Runner.pull_stats(population, iteration))\n",
    "            \n",
    "        return stats, population"
   ]
  },
  {
   "cell_type": "code",
   "execution_count": 5,
   "metadata": {},
   "outputs": [],
   "source": [
    "creator.create(\"FitnessMin\", base.Fitness, weights=(-1.0,))\n",
    "creator.create(\"Individual\", list, fitness=creator.FitnessMin)"
   ]
  },
  {
   "cell_type": "code",
   "execution_count": 6,
   "metadata": {},
   "outputs": [],
   "source": [
    "\n",
    "random.seed(11);\n",
    "np.random.seed(121);\n",
    "\n",
    "\n",
    "INDIVIDUAL_SIZE = NUMBER_OF_CITIES = 100\n",
    "POPULATION_SIZE = 200\n",
    "N_ITERATIONS = 1000\n",
    "N_MATINGS = 50\n",
    "\n",
    "## \n",
    "\n",
    "## fake city names,\n",
    "cities = [ \n",
    "    ''.join(np.random.choice([ c for c in string.ascii_letters ], random.randint(5, 12))) \n",
    "    for i in range(NUMBER_OF_CITIES) \n",
    "]\n",
    "\n",
    "## fake distances,\n",
    "distances = np.zeros((NUMBER_OF_CITIES, NUMBER_OF_CITIES))\n",
    "for city in range(NUMBER_OF_CITIES):   \n",
    "    for to_city in [ i for i in range(NUMBER_OF_CITIES) if not i == city ]:\n",
    "        distances[to_city][city] = \\\n",
    "            distances[city][to_city] = random.randint(50, 2000)"
   ]
  },
  {
   "cell_type": "code",
   "execution_count": 22,
   "metadata": {},
   "outputs": [],
   "source": [
    "import pandas as pd\n",
    "import numpy as np"
   ]
  },
  {
   "cell_type": "code",
   "execution_count": 23,
   "metadata": {},
   "outputs": [],
   "source": [
    "distance_matrix = pd.read_csv('../data/distance_matrix.csv', index_col=0)"
   ]
  },
  {
   "cell_type": "code",
   "execution_count": 25,
   "metadata": {},
   "outputs": [],
   "source": [
    "distances = np.asarray(distance_matrix)"
   ]
  },
  {
   "cell_type": "code",
   "execution_count": 26,
   "metadata": {},
   "outputs": [],
   "source": [
    "INDIVIDUAL_SIZE = NUMBER_OF_CITIES = len(distances)\n",
    "POPULATION_SIZE = 200\n",
    "N_ITERATIONS = 1000\n",
    "N_MATINGS = 50"
   ]
  },
  {
   "cell_type": "code",
   "execution_count": 27,
   "metadata": {},
   "outputs": [],
   "source": [
    "toolbox = base.Toolbox()\n",
    "\n",
    "## permutation setup for individual,\n",
    "toolbox.register(\"indices\", random.sample, range(INDIVIDUAL_SIZE), INDIVIDUAL_SIZE)\n",
    "toolbox.register(\"individual\", tools.initIterate, creator.Individual, toolbox.indices)\n",
    "\n",
    "## population setup,\n",
    "toolbox.register(\"population\", tools.initRepeat, list, toolbox.individual)"
   ]
  },
  {
   "cell_type": "code",
   "execution_count": 28,
   "metadata": {},
   "outputs": [],
   "source": [
    "def EVALUATE(individual):\n",
    "    summation = 0\n",
    "    start = individual[0]\n",
    "    for i in range(1, len(individual)):\n",
    "        end = individual[i]\n",
    "        summation += distances[start][end]\n",
    "        start = end\n",
    "    return summation\n",
    "\n",
    "toolbox.register(\"evaluate\", EVALUATE)"
   ]
  },
  {
   "cell_type": "code",
   "execution_count": 29,
   "metadata": {},
   "outputs": [],
   "source": [
    "toolbox.register(\"mate\", tools.cxOrdered)\n",
    "toolbox.register(\"mutate\", tools.mutShuffleIndexes, indpb=0.01)\n",
    "toolbox.register(\"select\", tools.selTournament, tournsize=10)"
   ]
  },
  {
   "cell_type": "code",
   "execution_count": 30,
   "metadata": {},
   "outputs": [],
   "source": [
    "\n",
    "a = Runner(toolbox)\n",
    "a.set_parameters(POPULATION_SIZE, N_ITERATIONS, N_MATINGS)\n",
    "\n",
    "stats, population = a.Run()"
   ]
  },
  {
   "cell_type": "code",
   "execution_count": 31,
   "metadata": {},
   "outputs": [
    {
     "data": {
      "image/png": "[encoded data removed]",
      "text/plain": [
       "<Figure size 1080x360 with 2 Axes>"
      ]
     },
     "metadata": {
      "needs_background": "light"
     },
     "output_type": "display_data"
    }
   ],
   "source": [
    "import matplotlib.pyplot as plt\n",
    "\n",
    "plt.figure(figsize=(15,5))\n",
    "\n",
    "plt.subplot(1,2,1)\n",
    "\n",
    "_ = plt.scatter([ s['min'] for s in stats ], [ s['max'] for s in stats ], marker='.', s=[ (s['std'] + 1) / 20 for s in stats ])\n",
    "\n",
    "_ = plt.title('min by max')\n",
    "_ = plt.xlabel('min')\n",
    "_ = plt.ylabel('max')\n",
    "\n",
    "_ = plt.plot(stats[0]['min'], stats[0]['max'], marker='.', color='yellow')\n",
    "_ = plt.plot(stats[-1]['min'], stats[-1]['max'], marker='.', color='red')\n",
    "\n",
    "\n",
    "plt.subplot(1,2,2)\n",
    "\n",
    "_ = plt.scatter([ s['i'] for s in stats ], [ s['mu'] for s in stats ], marker='.', s=[ (s['std'] + 1) / 20 for s in stats ])\n",
    "\n",
    "_ = plt.title('average by iteration')\n",
    "_ = plt.xlabel('iteration')\n",
    "_ = plt.ylabel('average')\n",
    "\n",
    "_ = plt.plot(stats[0]['i'], stats[0]['mu'], marker='.', color='yellow')\n",
    "_ = plt.plot(stats[-1]['i'], stats[-1]['mu'], marker='.', color='red')\n",
    "\n",
    "plt.tight_layout()\n",
    "plt.show()"
   ]
  },
  {
   "cell_type": "code",
   "execution_count": 34,
   "metadata": {},
   "outputs": [],
   "source": [
    "import json\n",
    "with open('../data/pueblos_magicos.json') as json_file:\n",
    "    pueblos = json.load(json_file)\n",
    "coordinates = [pueblo['coords'] for pueblo in pueblos]"
   ]
  },
  {
   "cell_type": "code",
   "execution_count": 35,
   "metadata": {},
   "outputs": [],
   "source": [
    "path = np.asarray(coordinates)[population[0]]"
   ]
  },
  {
   "cell_type": "code",
   "execution_count": 36,
   "metadata": {},
   "outputs": [],
   "source": [
    "import folium\n",
    "from folium.plugins import MarkerCluster,HeatMap, Fullscreen"
   ]
  },
  {
   "cell_type": "code",
   "execution_count": 38,
   "metadata": {},
   "outputs": [
    {
     "data": {
      "text/html": [
       "<div style=\"width:100%;\"><div style=\"position:relative;width:100%;height:0;padding-bottom:60%;\"><iframe src=\"data:text/html;charset=utf-8;base64,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\" style=\"position:absolute;width:100%;height:100%;left:0;top:0;border:none !important;\" allowfullscreen webkitallowfullscreen mozallowfullscreen></iframe></div></div>"
      ],
      "text/plain": [
       "<folium.folium.Map at 0x18863873108>"
      ]
     },
     "execution_count": 38,
     "metadata": {},
     "output_type": "execute_result"
    }
   ],
   "source": [
    "tiles_url = 'https://{s}.basemaps.cartocdn.com/rastertiles/voyager/{z}/{x}/{y}{r}.png'\n",
    "attrb ='&copy; <a href=\"https://www.openstreetmap.org/copyright\">OpenStreetMap</a> contributors &copy; <a href=\"https://carto.com/attributions\">CARTO</a>'\n",
    "m = folium.Map(tiles=None)\n",
    "\n",
    "folium.TileLayer(tiles_url,attr=attrb,name = 'Pueblos Mágicos de México', show = True).add_to(m)\n",
    "\n",
    "text = '<h4>Planta Bosch Aguascalientes</h4>'\n",
    "text = folium.Html(text, script=True)\n",
    "popup = folium.Popup(text, max_width=2650)\n",
    "\n",
    "\n",
    "pt_lyr = folium.FeatureGroup(name = 'Pueblos Mágicos',show=True)\n",
    "\n",
    "\n",
    "folium.PolyLine(path).add_to(pt_lyr)\n",
    "pt_lyr.add_to(m)\n",
    "\n",
    "Fullscreen(position='topleft', title='Full Screen', title_cancel='Exit Full Screen', force_separate_button=False).add_to(m)\n",
    "folium.LayerControl(collapsed=False).add_to(m)\n",
    "m.fit_bounds(m.get_bounds())\n",
    "m\n",
    "#m.save('../maps/Mapeo Asociados Aguascalientes.html')"
   ]
  },
  {
   "cell_type": "code",
   "execution_count": null,
   "metadata": {},
   "outputs": [],
   "source": []
  }
 ],
 "metadata": {
  "kernelspec": {
   "display_name": "Python 3",
   "language": "python",
   "name": "python3"
  }
 },
 "nbformat": 4,
 "nbformat_minor": 2
}
